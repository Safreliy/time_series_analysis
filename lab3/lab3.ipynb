{
 "cells": [
  {
   "cell_type": "markdown",
   "metadata": {},
   "source": [
    "Импортируем библиотеки"
   ]
  },
  {
   "cell_type": "code",
   "execution_count": 51,
   "metadata": {
    "ExecuteTime": {
     "end_time": "2023-10-29T18:45:09.535729Z",
     "start_time": "2023-10-29T18:45:09.531245500Z"
    }
   },
   "outputs": [],
   "source": [
    "import pandas as pd\n",
    "import numpy as np\n",
    "import plotly.graph_objects as go\n",
    "from ipywidgets import interact\n",
    "import ipywidgets as widgets\n",
    "from ipywidgets import VBox\n",
    "import statsmodels.api as sm\n",
    "import scipy.stats as stats\n",
    "import matplotlib.pyplot as plt \n",
    "from statsmodels.graphics.tsaplots import plot_pacf"
   ]
  },
  {
   "cell_type": "markdown",
   "metadata": {},
   "source": [
    "Создаём Pandas DataFrame из файла IBM.csv"
   ]
  },
  {
   "cell_type": "code",
   "execution_count": 23,
   "metadata": {
    "ExecuteTime": {
     "end_time": "2023-10-29T13:45:29.272827300Z",
     "start_time": "2023-10-29T13:45:29.266808100Z"
    }
   },
   "outputs": [],
   "source": [
    "file_path = 'IBM.csv'\n",
    "df = pd.read_csv(file_path)"
   ]
  },
  {
   "cell_type": "markdown",
   "metadata": {},
   "source": [
    "Отрисуем график стоимости акций"
   ]
  },
  {
   "cell_type": "code",
   "execution_count": 24,
   "metadata": {
    "ExecuteTime": {
     "end_time": "2023-10-29T13:45:29.272827300Z",
     "start_time": "2023-10-29T13:45:29.266808100Z"
    }
   },
   "outputs": [
    {
     "data": {
      "application/vnd.jupyter.widget-view+json": {
       "model_id": "8148e89dbc914fa9b98709a12a4b7c24",
       "version_major": 2,
       "version_minor": 0
      },
      "text/plain": [
       "FigureWidget({\n",
       "    'data': [{'mode': 'lines+markers',\n",
       "              'type': 'scatter',\n",
       "              'uid': '5c2ac3bf-77ab-42eb-b2c2-52a3470a6b4f',\n",
       "              'x': array(['2022-09-19', '2022-09-20', '2022-09-21', ..., '2023-09-13',\n",
       "                          '2023-09-14', '2023-09-15'], dtype=object),\n",
       "              'y': array([127.730003, 126.300003, 124.93    , ..., 146.550003, 147.350006,\n",
       "                          145.990005])}],\n",
       "    'layout': {'template': '...',\n",
       "               'xaxis': {'title': {'text': 'Дата'}},\n",
       "               'yaxis': {'range': [0, 165.6270077], 'title': {'text': 'Стоимость'}}}\n",
       "})"
      ]
     },
     "execution_count": 24,
     "metadata": {},
     "output_type": "execute_result"
    }
   ],
   "source": [
    "fig1 = go.FigureWidget(layout_yaxis_range=[0,np.max(df['Close'])*1.1])\n",
    "fig1.add_trace(go.Scatter(\n",
    "    x=df['Date'],\n",
    "    y=df['Close'],\n",
    "    mode=\"lines+markers\"\n",
    "))\n",
    "fig1.update_xaxes(title='Дата')\n",
    "fig1.update_yaxes(title='Стоимость')\n",
    "fig1"
   ]
  },
  {
   "cell_type": "markdown",
   "metadata": {},
   "source": [
    "### Тест Дики-Фуллера"
   ]
  },
  {
   "cell_type": "code",
   "execution_count": 25,
   "metadata": {
    "ExecuteTime": {
     "end_time": "2023-10-29T14:18:46.304317600Z",
     "start_time": "2023-10-29T14:18:46.251981300Z"
    }
   },
   "outputs": [
    {
     "name": "stdout",
     "output_type": "stream",
     "text": [
      "ADF Statistic: -1.3183845455920598\n",
      "p-value: 0.6207199558312008\n",
      "Critical Values:\n",
      "\t1%: -3.4568881317725864\n",
      "\t5%: -2.8732185133016057\n",
      "\t10%: -2.5729936189738876\n",
      "Данные стационарны.\n"
     ]
    }
   ],
   "source": [
    "def adfuller_test(time_series, p_value=0.05):\n",
    "    result = sm.tsa.adfuller(time_series)\n",
    "    print(f'ADF Statistic: {result[0]}')\n",
    "    print(f'p-value: {result[1]}')\n",
    "    print('Critical Values:')\n",
    "    for key, value in result[4].items():\n",
    "        print(f'\\t{key}: {value}')\n",
    "    \n",
    "    if result[1] <= p_value:\n",
    "        print(\"Данные нестационарны.\")\n",
    "    else:\n",
    "        print(\"Данные стационарны.\")\n",
    "\n",
    "adfuller_test(df['Close'])"
   ]
  },
  {
   "cell_type": "markdown",
   "metadata": {},
   "source": [
    "### Линейная регрессия"
   ]
  },
  {
   "cell_type": "code",
   "execution_count": 43,
   "metadata": {
    "ExecuteTime": {
     "end_time": "2023-10-29T14:28:23.081646800Z",
     "start_time": "2023-10-29T14:28:23.047671600Z"
    }
   },
   "outputs": [
    {
     "data": {
      "application/vnd.jupyter.widget-view+json": {
       "model_id": "6293ab74f7be4078a19028e160cdf512",
       "version_major": 2,
       "version_minor": 0
      },
      "text/plain": [
       "interactive(children=(IntSlider(value=0, description='start', max=250), IntSlider(value=250, description='end'…"
      ]
     },
     "metadata": {},
     "output_type": "display_data"
    },
    {
     "data": {
      "application/vnd.jupyter.widget-view+json": {
       "model_id": "30411a75af224587997f578feeda4d5e",
       "version_major": 2,
       "version_minor": 0
      },
      "text/plain": [
       "FigureWidget({\n",
       "    'data': [{'mode': 'lines+markers',\n",
       "              'name': 'Исходные данные',\n",
       "              'type': 'scatter',\n",
       "              'uid': 'b11580dd-90d0-498c-bb39-2a6b827d82ec',\n",
       "              'x': array(['2022-09-19', '2022-09-20', '2022-09-21', ..., '2023-09-13',\n",
       "                          '2023-09-14', '2023-09-15'], dtype=object),\n",
       "              'y': array([127.730003, 126.300003, 124.93    , ..., 146.550003, 147.350006,\n",
       "                          145.990005])},\n",
       "             {'mode': 'lines',\n",
       "              'name': 'Линейная регрессия',\n",
       "              'type': 'scatter',\n",
       "              'uid': '7e4b185c-27ff-4332-8cc2-927bb45de283',\n",
       "              'x': array(['2022-09-19', '2022-09-20', '2022-09-21', ..., '2023-09-13',\n",
       "                          '2023-09-14', '2023-09-15'], dtype=object),\n",
       "              'y': array([132.19851744, 132.22048597, 132.24245451, ..., 137.62474561,\n",
       "                          137.64671415, 137.66868268])}],\n",
       "    'layout': {'template': '...', 'xaxis': {'title': {'text': 'Дата'}}, 'yaxis': {'title': {'text': 'Стоимость'}}}\n",
       "})"
      ]
     },
     "execution_count": 43,
     "metadata": {},
     "output_type": "execute_result"
    }
   ],
   "source": [
    "# Построение линейной регрессии\n",
    "x = np.array(list(range(len(df['Date']))))\n",
    "slope, intercept, r_value, p_value, std_err = stats.linregress(x, df['Close'])\n",
    "\n",
    "# Построение графика\n",
    "trace2 = go.Scatter(\n",
    "    x=df['Date'],\n",
    "    y=slope * x + intercept,\n",
    "    mode='lines',\n",
    "    name='Линейная регрессия'\n",
    ")\n",
    "\n",
    "fig2 = go.FigureWidget(data=[trace1,trace2])\n",
    "fig2.update_layout(xaxis_title='Дата', yaxis_title='Стоимость')\n",
    "\n",
    "\n",
    "def redraw_linear(start, end):\n",
    "    if start < end:\n",
    "        slope, intercept, r_value, p_value, std_err = stats.linregress(x[start:end], df['Close'][start:end])\n",
    "        fig2[\"data\"][1].x = df['Date'][start:end]\n",
    "        fig2[\"data\"][1].y = slope * x[start:end] + intercept\n",
    "        # Вывод параметров\n",
    "        print(f\"Угловой коэффициент (slope): {slope}\")\n",
    "        print(f\"Пересечение (intercept): {intercept}\")\n",
    "        print(f\"Коэффициент корреляции (r_value): {r_value}\")\n",
    "        print(f\"p-value: {p_value}\")\n",
    "        print(f\"Стандартная ошибка (std_err): {std_err}\")\n",
    "\n",
    "interact(\n",
    "    redraw_linear, \n",
    "    start=widgets.IntSlider(min=0, max=len(df['Date']), step=1, value=0), \n",
    "    end=widgets.IntSlider(min=0, max=len(df['Date']), step=1, value=len(df['Date']))\n",
    ")\n",
    "fig2"
   ]
  },
  {
   "cell_type": "markdown",
   "metadata": {},
   "source": [
    "### Автокоррелограмма"
   ]
  },
  {
   "cell_type": "code",
   "execution_count": 48,
   "metadata": {
    "ExecuteTime": {
     "end_time": "2023-10-29T15:45:33.206147900Z",
     "start_time": "2023-10-29T15:45:33.001136200Z"
    }
   },
   "outputs": [
    {
     "data": {
      "text/plain": "(array([-40, -39, -38, -37, -36, -35, -34, -33, -32, -31, -30, -29, -28,\n        -27, -26, -25, -24, -23, -22, -21, -20, -19, -18, -17, -16, -15,\n        -14, -13, -12, -11, -10,  -9,  -8,  -7,  -6,  -5,  -4,  -3,  -2,\n         -1,   0,   1,   2,   3,   4,   5,   6,   7,   8,   9,  10,  11,\n         12,  13,  14,  15,  16,  17,  18,  19,  20,  21,  22,  23,  24,\n         25,  26,  27,  28,  29,  30,  31,  32,  33,  34,  35,  36,  37,\n         38,  39,  40]),\n array([0.83319599, 0.83761106, 0.84200082, 0.84631173, 0.85073125,\n        0.85515836, 0.8595509 , 0.86388929, 0.86826555, 0.87270616,\n        0.8771679 , 0.88163187, 0.88603584, 0.89043552, 0.89466093,\n        0.89891039, 0.90308003, 0.9071847 , 0.91113006, 0.91505208,\n        0.91893196, 0.92279138, 0.92672745, 0.93052292, 0.93438054,\n        0.93824411, 0.94218937, 0.94625418, 0.95042271, 0.95460102,\n        0.95867484, 0.96271683, 0.9668392 , 0.97098999, 0.97509241,\n        0.97920006, 0.98333397, 0.98747041, 0.99161065, 0.99581325,\n        1.        , 0.99581325, 0.99161065, 0.98747041, 0.98333397,\n        0.97920006, 0.97509241, 0.97098999, 0.9668392 , 0.96271683,\n        0.95867484, 0.95460102, 0.95042271, 0.94625418, 0.94218937,\n        0.93824411, 0.93438054, 0.93052292, 0.92672745, 0.92279138,\n        0.91893196, 0.91505208, 0.91113006, 0.9071847 , 0.90308003,\n        0.89891039, 0.89466093, 0.89043552, 0.88603584, 0.88163187,\n        0.8771679 , 0.87270616, 0.86826555, 0.86388929, 0.8595509 ,\n        0.85515836, 0.85073125, 0.84631173, 0.84200082, 0.83761106,\n        0.83319599]),\n <matplotlib.collections.LineCollection at 0x230e9a8b410>,\n <matplotlib.lines.Line2D at 0x230e9d4e850>)"
     },
     "execution_count": 48,
     "metadata": {},
     "output_type": "execute_result"
    },
    {
     "data": {
      "text/plain": "<Figure size 640x480 with 1 Axes>",
      "image/png": "[encoded data removed]"
     },
     "metadata": {},
     "output_type": "display_data"
    }
   ],
   "source": [
    "plt.acorr(df['Close'], maxlags = 40) "
   ]
  },
  {
   "cell_type": "markdown",
   "metadata": {},
   "source": [
    "### Бокс-Кокс"
   ]
  },
  {
   "cell_type": "code",
   "execution_count": 47,
   "metadata": {
    "ExecuteTime": {
     "end_time": "2023-10-19T15:47:59.438319900Z",
     "start_time": "2023-10-19T15:47:59.207648600Z"
    },
    "scrolled": true
   },
   "outputs": [
    {
     "data": {
      "application/vnd.jupyter.widget-view+json": {
       "model_id": "bd83f2a9875f443791b1b4e9bacc87b3",
       "version_major": 2,
       "version_minor": 0
      },
      "text/plain": [
       "interactive(children=(FloatSlider(value=0.0, description='lamb', max=2.0), Output()), _dom_classes=('widget-in…"
      ]
     },
     "metadata": {},
     "output_type": "display_data"
    },
    {
     "data": {
      "application/vnd.jupyter.widget-view+json": {
       "model_id": "db2e98c004744300bad113c26c987451",
       "version_major": 2,
       "version_minor": 0
      },
      "text/plain": [
       "FigureWidget({\n",
       "    'data': [{'mode': 'lines',\n",
       "              'name': 'Boxcox',\n",
       "              'type': 'scatter',\n",
       "              'uid': 'fa4a696c-36b6-422c-bac2-848d3ddcd8af',\n",
       "              'x': array(['2022-09-19', '2022-09-20', '2022-09-21', ..., '2023-09-13',\n",
       "                          '2023-09-14', '2023-09-15'], dtype=object),\n",
       "              'y': array([4.84991868, 4.83866005, 4.82775358, ..., 4.98736669, 4.99281075,\n",
       "                          4.98353816])}],\n",
       "    'layout': {'template': '...', 'xaxis': {'title': {'text': 'Дата'}}, 'yaxis': {'title': {'text': 'Стоимость'}}}\n",
       "})"
      ]
     },
     "execution_count": 47,
     "metadata": {},
     "output_type": "execute_result"
    }
   ],
   "source": [
    "def boxcox(data, lamb):\n",
    "    data = np.array(data)\n",
    "    if lamb == 0:\n",
    "        return np.log(data)\n",
    "    else:\n",
    "        return np.power(data, (lamb-1))/lamb\n",
    "    \n",
    "boxcox_data = boxcox(df['Close'], 0)\n",
    "\n",
    "\n",
    "# Построение графика\n",
    "trace2 = go.Scatter(\n",
    "    x=df['Date'],\n",
    "    y=boxcox_data,\n",
    "    mode='lines',\n",
    "    name='Boxcox'\n",
    ")\n",
    "\n",
    "fig3 = go.FigureWidget(data=[trace2])\n",
    "fig3.update_layout(xaxis_title='Дата', yaxis_title='Стоимость')\n",
    "\n",
    "\n",
    "def redraw_boxcox(lamb):\n",
    "    boxcox_data = boxcox(df['Close'], lamb)\n",
    "    fig3[\"data\"][0].y = boxcox_data\n",
    "\n",
    "interact(\n",
    "    redraw_boxcox, \n",
    "    lamb=widgets.FloatSlider(min=0, max=2, step=0.1, value=0), \n",
    ")\n",
    "fig3\n"
   ]
  },
  {
   "cell_type": "markdown",
   "source": [],
   "metadata": {
    "collapsed": false
   }
  },
  {
   "cell_type": "markdown",
   "metadata": {},
   "source": [
    "### Частиная автокорреляция"
   ]
  },
  {
   "cell_type": "code",
   "execution_count": 56,
   "metadata": {
    "ExecuteTime": {
     "end_time": "2023-10-29T18:47:10.372173900Z",
     "start_time": "2023-10-29T18:47:09.389610400Z"
    }
   },
   "outputs": [
    {
     "data": {
      "text/plain": "<Figure size 640x480 with 1 Axes>",
      "image/png": "[encoded data removed]"
     },
     "metadata": {},
     "output_type": "display_data"
    }
   ],
   "source": [
    "plot_pacf(df['Close'], lags=100)\n",
    "plt.show()"
   ]
  },
  {
   "cell_type": "code",
   "execution_count": null,
   "metadata": {
    "is_executing": true
   },
   "outputs": [],
   "source": []
  }
 ],
 "metadata": {
  "kernelspec": {
   "display_name": "Python 3 (ipykernel)",
   "language": "python",
   "name": "python3"
  },
  "language_info": {
   "codemirror_mode": {
    "name": "ipython",
    "version": 3
   },
   "file_extension": ".py",
   "mimetype": "text/x-python",
   "name": "python",
   "nbconvert_exporter": "python",
   "pygments_lexer": "ipython3",
   "version": "3.11.5"
  },
  "varInspector": {
   "cols": {
    "lenName": 16,
    "lenType": 16,
    "lenVar": 40
   },
   "kernels_config": {
    "python": {
     "delete_cmd_postfix": "",
     "delete_cmd_prefix": "del ",
     "library": "var_list.py",
     "varRefreshCmd": "print(var_dic_list())"
    },
    "r": {
     "delete_cmd_postfix": ") ",
     "delete_cmd_prefix": "rm(",
     "library": "var_list.r",
     "varRefreshCmd": "cat(var_dic_list()) "
    }
   },
   "types_to_exclude": [
    "module",
    "function",
    "builtin_function_or_method",
    "instance",
    "_Feature"
   ],
   "window_display": false
  }
 },
 "nbformat": 4,
 "nbformat_minor": 1
}
