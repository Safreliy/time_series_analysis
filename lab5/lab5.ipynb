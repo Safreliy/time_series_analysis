{
 "cells": [
  {
   "cell_type": "markdown",
   "metadata": {},
   "source": [
    "Импортируем библиотеки"
   ]
  },
  {
   "cell_type": "code",
   "execution_count": 1,
   "metadata": {
    "is_executing": true
   },
   "outputs": [],
   "source": [
    "import pandas as pd\n",
    "import numpy as np\n",
    "import plotly.graph_objects as go\n",
    "from ipywidgets import interact\n",
    "import ipywidgets as widgets\n",
    "from ipywidgets import VBox\n",
    "from scipy.interpolate import interp1d, lagrange, CubicSpline, interp1d, pchip\n",
    "from scipy.interpolate import BarycentricInterpolator, Akima1DInterpolator\n",
    "from sklearn.metrics import mean_squared_error, mean_absolute_error\n",
    "from statsmodels.tsa.arima.model import ARIMA\n",
    "from statsmodels.tsa.api import VAR\n",
    "import warnings\n",
    "from statsmodels.tools.sm_exceptions import ConvergenceWarning\n",
    "warnings.simplefilter('ignore', ConvergenceWarning)\n",
    "warnings.simplefilter('ignore', UserWarning)\n",
    "warnings.simplefilter(action='ignore', category=FutureWarning)"
   ]
  },
  {
   "cell_type": "markdown",
   "metadata": {},
   "source": [
    "Создаём Pandas DataFrame из файла IBM.csv"
   ]
  },
  {
   "cell_type": "code",
   "execution_count": 2,
   "metadata": {
    "ExecuteTime": {
     "end_time": "2023-12-16T15:02:52.571991100Z",
     "start_time": "2023-12-16T15:02:52.552301400Z"
    }
   },
   "outputs": [],
   "source": [
    "file_path = 'MSFT.csv'\n",
    "df = pd.read_csv(file_path)\n",
    "df['Date'] = pd.to_datetime(df['Date'])\n",
    "df.set_index('Date', inplace=True)\n",
    "df[\"Volume\"] = df[\"Volume\"] / max(df[\"Volume\"])"
   ]
  },
  {
   "cell_type": "markdown",
   "metadata": {},
   "source": [
    "Отрисуем график стоимости акций"
   ]
  },
  {
   "cell_type": "code",
   "execution_count": 3,
   "metadata": {
    "ExecuteTime": {
     "end_time": "2023-12-16T15:02:55.515716900Z",
     "start_time": "2023-12-16T15:02:55.445962300Z"
    }
   },
   "outputs": [
    {
     "data": {
      "application/vnd.jupyter.widget-view+json": {
       "model_id": "e25dfe21960c4130a6f1f8605729d59f",
       "version_major": 2,
       "version_minor": 0
      },
      "text/plain": [
       "FigureWidget({\n",
       "    'data': [{'mode': 'lines+markers',\n",
       "              'name': 'Исходные данные',\n",
       "              'type': 'scatter',\n",
       "              'uid': '6d78d849-b6e2-4620-ae64-2099be4f7741',\n",
       "              'x': array([datetime.datetime(2022, 9, 6, 0, 0),\n",
       "                          datetime.datetime(2022, 9, 7, 0, 0),\n",
       "                          datetime.datetime(2022, 9, 8, 0, 0), ...,\n",
       "                          datetime.datetime(2023, 8, 31, 0, 0),\n",
       "                          datetime.datetime(2023, 9, 1, 0, 0),\n",
       "                          datetime.datetime(2023, 9, 5, 0, 0)], dtype=object),\n",
       "              'y': array([0.24770853, 0.28021068, 0.235998  , ..., 0.30674084, 0.17341293,\n",
       "                          0.21531904])}],\n",
       "    'layout': {'template': '...',\n",
       "               'xaxis': {'title': {'text': 'Дата'}},\n",
       "               'yaxis': {'range': [0, 1.1], 'title': {'text': 'Стоимость'}}}\n",
       "})"
      ]
     },
     "execution_count": 3,
     "metadata": {},
     "output_type": "execute_result"
    }
   ],
   "source": [
    "trace1 = go.Scatter(x=df.index, y=df['Volume'], mode=\"lines+markers\", name='Исходные данные')\n",
    "fig1 = go.FigureWidget(layout_yaxis_range=[0,np.max(df['Volume'])*1.1])\n",
    "fig1.add_trace(trace1)\n",
    "fig1.update_xaxes(title='Дата')\n",
    "fig1.update_yaxes(title='Стоимость')\n",
    "fig1"
   ]
  },
  {
   "cell_type": "markdown",
   "metadata": {},
   "source": [
    "### ARIMA"
   ]
  },
  {
   "cell_type": "code",
   "execution_count": 4,
   "metadata": {
    "ExecuteTime": {
     "end_time": "2023-12-16T15:05:50.884358600Z",
     "start_time": "2023-12-16T15:05:49.838985200Z"
    }
   },
   "outputs": [
    {
     "data": {
      "application/vnd.jupyter.widget-view+json": {
       "model_id": "b272130947ed427385fbeda6199feea3",
       "version_major": 2,
       "version_minor": 0
      },
      "text/plain": [
       "interactive(children=(IntSlider(value=5, description='p:', max=10), IntSlider(value=1, description='d:', max=1…"
      ]
     },
     "metadata": {},
     "output_type": "display_data"
    },
    {
     "data": {
      "application/vnd.jupyter.widget-view+json": {
       "model_id": "ded139033ab140b8a6e2a8b2fe24f82f",
       "version_major": 2,
       "version_minor": 0
      },
      "text/plain": [
       "FigureWidget({\n",
       "    'data': [{'mode': 'lines+markers',\n",
       "              'name': 'Исходные данные',\n",
       "              'type': 'scatter',\n",
       "              'uid': '7c91fef1-b4dd-4a6a-aba2-6fff2c80cdf1',\n",
       "              'x': array([datetime.datetime(2022, 9, 6, 0, 0),\n",
       "                          datetime.datetime(2022, 9, 7, 0, 0),\n",
       "                          datetime.datetime(2022, 9, 8, 0, 0), ...,\n",
       "                          datetime.datetime(2023, 8, 31, 0, 0),\n",
       "                          datetime.datetime(2023, 9, 1, 0, 0),\n",
       "                          datetime.datetime(2023, 9, 5, 0, 0)], dtype=object),\n",
       "              'y': array([0.24770853, 0.28021068, 0.235998  , ..., 0.30674084, 0.17341293,\n",
       "                          0.21531904])},\n",
       "             {'mode': 'markers',\n",
       "              'name': 'ARIMA',\n",
       "              'type': 'scatter',\n",
       "              'uid': 'e3b63325-f24d-4f90-a3ae-85e4bdaee7dd',\n",
       "              'x': array([datetime.datetime(2022, 9, 7, 0, 0)], dtype=object),\n",
       "              'y': array([0.24770853])}],\n",
       "    'layout': {'template': '...', 'xaxis': {'title': {'text': 'Дата'}}, 'yaxis': {'title': {'text': 'Стоимость'}}}\n",
       "})"
      ]
     },
     "execution_count": 4,
     "metadata": {},
     "output_type": "execute_result"
    }
   ],
   "source": [
    "\n",
    "# Прогнозирование с использованием ARIMA\n",
    "order = (5, 1, 1)  # параметры модели ARIMA (p, d, q)\n",
    "model = ARIMA(df['Volume'], order=order)\n",
    "result = model.fit()\n",
    "\n",
    "forecast_steps = 10 \n",
    "forecast = result.get_forecast(steps=forecast_steps)\n",
    "\n",
    "forecast_values = forecast.predicted_mean\n",
    "# Визуализация результатов\n",
    "trace2 = go.Scatter(\n",
    "    x=pd.date_range(start=df.index[-1], periods=forecast_steps + 1, freq='B')[1:],\n",
    "    y=forecast_values,\n",
    "    mode='markers',\n",
    "    name='ARIMA'\n",
    ")\n",
    "\n",
    "fig2 = go.FigureWidget(data=[trace1, trace2])\n",
    "fig2.update_layout(xaxis_title='Дата', yaxis_title='Стоимость')\n",
    "\n",
    "def redraw_arima(**args):\n",
    "    p, d, q, end, forecast_n = args.values()\n",
    "    \n",
    "    order = (p, d, q)  # параметры модели ARIMA (p, d, q)\n",
    "    model = ARIMA(df['Volume'][:end], order=order)\n",
    "    result = model.fit()\n",
    "\n",
    "    forecast = result.get_forecast(steps=forecast_n)\n",
    "    \n",
    "    forecast_values = forecast.predicted_mean\n",
    "    \n",
    "    mse_arima = mean_squared_error(df['Volume'][end:end+forecast_n], forecast_values)\n",
    "    mae_arima = mean_absolute_error(df['Volume'][end:end+forecast_n], forecast_values)\n",
    "    \n",
    "    fig2[\"data\"][1].x = df.index[end:end+forecast_n]\n",
    "    fig2[\"data\"][1].y = forecast_values\n",
    "    \n",
    "    print(f'MSE (ARIMA): {mse_arima}')\n",
    "    print(f'MAE (ARIMA): {mae_arima}')\n",
    "\n",
    "\n",
    "interact(\n",
    "    redraw_arima, \n",
    "    int1=widgets.IntSlider(value=5, min=0, max=10, step=1,description='p:'), \n",
    "    int2=widgets.IntSlider(value=1, min=0, max=10, step=1,description='d:'),\n",
    "    int3=widgets.IntSlider(value=1, min=0, max=10, step=1,description='q:'), \n",
    "    int4=widgets.IntSlider(value=1, min=1, max=len(df.index), step=1,description='end:'), \n",
    "    int5=widgets.IntSlider(value=1, min=1, max=100, step=1,description='forecast_n:')\n",
    ")\n",
    "\n",
    "# Вывод результатов\n",
    "fig2"
   ]
  },
  {
   "cell_type": "markdown",
   "metadata": {},
   "source": [
    "### VAR"
   ]
  },
  {
   "cell_type": "code",
   "execution_count": 9,
   "metadata": {
    "ExecuteTime": {
     "end_time": "2023-12-17T10:46:07.611987500Z",
     "start_time": "2023-12-17T10:46:07.421463200Z"
    }
   },
   "outputs": [
    {
     "data": {
      "text/plain": "interactive(children=(IntSlider(value=5, description='p:', max=10), IntSlider(value=1, description='end:', max…",
      "application/vnd.jupyter.widget-view+json": {
       "version_major": 2,
       "version_minor": 0,
       "model_id": "0d9518d4164c49a8a56f36ddd2082ac6"
      }
     },
     "metadata": {},
     "output_type": "display_data"
    },
    {
     "data": {
      "application/vnd.jupyter.widget-view+json": {
       "version_major": 2,
       "version_minor": 0,
       "model_id": "782cd1c662734d7da32836f76487a575"
      },
      "text/plain": "FigureWidget({\n    'data': [{'mode': 'lines+markers',\n              'name': 'Исходные данные',\n              'type': 'scatter',\n              'uid': 'cc900ff3-ebfe-4225-8b34-a0fbe35d2402',\n              'x': array([datetime.datetime(2022, 9, 6, 0, 0),\n                          datetime.datetime(2022, 9, 7, 0, 0),\n                          datetime.datetime(2022, 9, 8, 0, 0), ...,\n                          datetime.datetime(2023, 8, 31, 0, 0),\n                          datetime.datetime(2023, 9, 1, 0, 0),\n                          datetime.datetime(2023, 9, 5, 0, 0)], dtype=object),\n              'y': array([0.24770853, 0.28021068, 0.235998  , ..., 0.30674084, 0.17341293,\n                          0.21531904])},\n             {'mode': 'markers',\n              'name': 'VAR',\n              'type': 'scatter',\n              'uid': '60b26bfb-68f0-4346-985a-5a937fe2bd12',\n              'x': array([datetime.datetime(2023, 9, 6, 0, 0),\n                          datetime.datetime(2023, 9, 7, 0, 0),\n                          datetime.datetime(2023, 9, 8, 0, 0),\n                          datetime.datetime(2023, 9, 11, 0, 0),\n                          datetime.datetime(2023, 9, 12, 0, 0),\n                          datetime.datetime(2023, 9, 13, 0, 0),\n                          datetime.datetime(2023, 9, 14, 0, 0),\n                          datetime.datetime(2023, 9, 15, 0, 0),\n                          datetime.datetime(2023, 9, 18, 0, 0),\n                          datetime.datetime(2023, 9, 19, 0, 0)], dtype=object),\n              'y': array([0.24891343, 0.26826829, 0.27647266, 0.28288428, 0.28532037, 0.28712034,\n                          0.28822375, 0.28902258, 0.28952913, 0.28991557])}],\n    'layout': {'template': '...', 'xaxis': {'title': {'text': 'Дата'}}, 'yaxis': {'title': {'text': 'Стоимость'}}}\n})"
     },
     "execution_count": 9,
     "metadata": {},
     "output_type": "execute_result"
    }
   ],
   "source": [
    "order = 2  # порядок VAR-модели\n",
    "model_var = VAR(df)\n",
    "result_var = model_var.fit(order)\n",
    "\n",
    "forecast_steps = 10 \n",
    "lag_order = result_var.k_ar\n",
    "forecast = result_var.forecast(df.values[-lag_order:], steps=forecast_steps)\n",
    "\n",
    "# Визуализация результатов\n",
    "trace2 = go.Scatter(\n",
    "    x=pd.date_range(start=df.index[-1], periods=forecast_steps + 1, freq='B')[1:],\n",
    "    y=forecast[:, -1],\n",
    "    mode='markers',\n",
    "    name='VAR'\n",
    ")\n",
    "\n",
    "fig3 = go.FigureWidget(data=[trace1, trace2])\n",
    "fig3.update_layout(xaxis_title='Дата', yaxis_title='Стоимость')\n",
    "\n",
    "def redraw_var(**args):\n",
    "    order, end, forecast_n = args.values()\n",
    "\n",
    "    model_var = VAR(df)\n",
    "    result_var = model_var.fit(order)\n",
    "    forecast = result_var.forecast(model_var.y[:end], steps=forecast_n)\n",
    "    forecast_values = forecast[:,-1]\n",
    "    \n",
    "    mse_arima = mean_squared_error(df['Volume'][end:end+forecast_n], forecast_values)\n",
    "    mae_arima = mean_absolute_error(df['Volume'][end:end+forecast_n], forecast_values)\n",
    "    \n",
    "    fig3[\"data\"][1].x = df.index[end:end+forecast_n]\n",
    "    fig3[\"data\"][1].y = forecast_values\n",
    "    \n",
    "    print(f'MSE (ARIMA): {mse_arima}')\n",
    "    print(f'MAE (ARIMA): {mae_arima}')\n",
    "\n",
    "\n",
    "interact(\n",
    "    redraw_var, \n",
    "    int1=widgets.IntSlider(value=5, min=0, max=10, step=1,description='p:'), \n",
    "    int2=widgets.IntSlider(value=1, min=1, max=len(df.index), step=1,description='end:'), \n",
    "    int3=widgets.IntSlider(value=1, min=1, max=100, step=1,description='forecast_n:')\n",
    ")\n",
    "\n",
    "# Вывод результатов\n",
    "fig3"
   ]
  },
  {
   "cell_type": "markdown",
   "metadata": {},
   "source": [
    "### Сплайн интерполяция"
   ]
  },
  {
   "cell_type": "code",
   "execution_count": null,
   "metadata": {},
   "outputs": [],
   "source": [
    "# Построение линейной регрессии\n",
    "interp = CubicSpline(x, y)\n",
    "y_cubic = interp(x_smooth)\n",
    "# Построение графика\n",
    "trace2 = go.Scatter(\n",
    "    x=x_smooth,\n",
    "    y=y_cubic,\n",
    "    mode='markers',\n",
    "    name='Сплайн интерполяция'\n",
    ")\n",
    "trace3 = go.Scatter(x=x, y=y, mode=\"markers\", name='Выколотые')\n",
    "fig4 = go.FigureWidget(data=[trace1, trace2, trace3])\n",
    "fig4.update_layout(xaxis_title='Дата', yaxis_title='Стоимость')\n",
    "\n",
    "def redraw_cubic(**args):\n",
    "    result = np.zeros_like(x, dtype=bool)\n",
    "    for arg in args.values():\n",
    "        result[arg[0]:arg[1]] = True\n",
    "\n",
    "    x_changed = x[result]\n",
    "    interp = CubicSpline(x_changed, y[x_changed])\n",
    "    y_cubic = interp(x_smooth)\n",
    "    fig4[\"data\"][1].y = y_cubic\n",
    "    fig4[\"data\"][2].x = x_changed\n",
    "    fig4[\"data\"][2].y = y[x_changed]\n",
    "    mask = np.ones(y.size, dtype=bool)\n",
    "    mask[x_changed] = False\n",
    "    print(np.sum(np.power(np.array(y[mask]) - np.array(y_cubic[mask]), 2)))\n",
    "\n",
    "interact(\n",
    "    redraw_cubic, \n",
    "    int1=widgets.IntRangeSlider(value=[x_1, x_2], min=x_1, max=x_2, step=1,description='int1:'), \n",
    "    int2=widgets.IntRangeSlider(value=[x_2, x_3], min=x_2, max=x_3, step=1,description='int2:'),\n",
    "    int3=widgets.IntRangeSlider(value=[x_3, x_4], min=x_3, max=x_4, step=1,description='int3:'), \n",
    "    int4=widgets.IntRangeSlider(value=[x_4, x_5], min=x_4, max=x_5, step=1,description='int4:'), \n",
    "    int5=widgets.IntRangeSlider(value=[x_5, x_6], min=x_5, max=x_6, step=1,description='int5:'), \n",
    ")\n",
    "fig4"
   ]
  },
  {
   "cell_type": "markdown",
   "metadata": {},
   "source": [
    "### Интерполяция Ньютона"
   ]
  },
  {
   "cell_type": "code",
   "execution_count": null,
   "metadata": {
    "ExecuteTime": {
     "end_time": "2023-11-12T18:02:16.518051300Z",
     "start_time": "2023-11-12T18:02:16.462945500Z"
    }
   },
   "outputs": [],
   "source": [
    "def divided_diff(x, y):\n",
    "    n = len(y)\n",
    "    coef = np.zeros([n, n])\n",
    "    coef[:,0] = y\n",
    "    for j in range(1,n):\n",
    "        for i in range(n-j):\n",
    "            coef[i][j] = (coef[i+1][j-1] - coef[i][j-1]) / (x[i+j]-x[i])     \n",
    "    return coef\n",
    "\n",
    "def newton_poly(coef, x_data, x):\n",
    "    n = len(x_data) - 1 \n",
    "    p = coef[n]\n",
    "    for k in range(1,n+1):\n",
    "        p = coef[n-k] + (x -x_data[n-k])*p\n",
    "    return p\n",
    "\n",
    "a_s = divided_diff(x, y)[0, :]\n",
    "\n",
    "y_newton = newton_poly(a_s, x, x_smooth)\n",
    "\n",
    "trace2 = go.Scatter(\n",
    "    x=x_smooth,\n",
    "    y=y_newton,\n",
    "    mode='markers',\n",
    "    name='Интерполяция Ньютона'\n",
    ")\n",
    "\n",
    "fig5 = go.FigureWidget(data=[trace1, trace2])\n",
    "fig5.update_layout(xaxis_title='Дата', yaxis_title='Стоимость')\n",
    "\n",
    "def redraw_cubic(**args):\n",
    "    result = np.zeros_like(x, dtype=bool)\n",
    "    for arg in args.values():\n",
    "        result[arg[0]:arg[1]] = True\n",
    "\n",
    "    x_changed = x[result]\n",
    "    y_changed = y[result]\n",
    "    a_s = divided_diff(x_changed, y_changed)[0, :]\n",
    "    y_newton = newton_poly(a_s, x_changed, x_smooth)\n",
    "    fig5[\"data\"][1].y = y_newton\n",
    "\n",
    "interact(\n",
    "    redraw_cubic, \n",
    "    int1=widgets.IntRangeSlider(value=[x_1, x_2], min=x_1, max=x_2, step=1,description='int1:'), \n",
    "    int2=widgets.IntRangeSlider(value=[x_2, x_3], min=x_2, max=x_3, step=1,description='int2:'),\n",
    "    int3=widgets.IntRangeSlider(value=[x_3, x_4], min=x_3, max=x_4, step=1,description='int3:'), \n",
    "    int4=widgets.IntRangeSlider(value=[x_4, x_5], min=x_4, max=x_5, step=1,description='int4:'), \n",
    "    int5=widgets.IntRangeSlider(value=[x_5, x_6], min=x_5, max=x_6, step=1,description='int5:'), \n",
    ")\n",
    "fig5"
   ]
  },
  {
   "cell_type": "code",
   "execution_count": null,
   "metadata": {},
   "outputs": [],
   "source": []
  }
 ],
 "metadata": {
  "kernelspec": {
   "display_name": "Python 3 (ipykernel)",
   "language": "python",
   "name": "python3"
  },
  "language_info": {
   "codemirror_mode": {
    "name": "ipython",
    "version": 3
   },
   "file_extension": ".py",
   "mimetype": "text/x-python",
   "name": "python",
   "nbconvert_exporter": "python",
   "pygments_lexer": "ipython3",
   "version": "3.11.5"
  },
  "varInspector": {
   "cols": {
    "lenName": 16,
    "lenType": 16,
    "lenVar": 40
   },
   "kernels_config": {
    "python": {
     "delete_cmd_postfix": "",
     "delete_cmd_prefix": "del ",
     "library": "var_list.py",
     "varRefreshCmd": "print(var_dic_list())"
    },
    "r": {
     "delete_cmd_postfix": ") ",
     "delete_cmd_prefix": "rm(",
     "library": "var_list.r",
     "varRefreshCmd": "cat(var_dic_list()) "
    }
   },
   "types_to_exclude": [
    "module",
    "function",
    "builtin_function_or_method",
    "instance",
    "_Feature"
   ],
   "window_display": false
  }
 },
 "nbformat": 4,
 "nbformat_minor": 1
}
