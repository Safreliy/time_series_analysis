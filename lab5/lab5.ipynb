{
 "cells": [
  {
   "cell_type": "markdown",
   "metadata": {},
   "source": [
    "Импортируем библиотеки"
   ]
  },
  {
   "cell_type": "code",
   "execution_count": 8,
   "metadata": {
    "is_executing": true
   },
   "outputs": [],
   "source": [
    "import pandas as pd\n",
    "import numpy as np\n",
    "import plotly.graph_objects as go\n",
    "from ipywidgets import interact\n",
    "import ipywidgets as widgets\n",
    "from ipywidgets import VBox\n",
    "from scipy.interpolate import interp1d, lagrange, CubicSpline, interp1d, pchip\n",
    "from scipy.interpolate import BarycentricInterpolator, Akima1DInterpolator\n",
    "from sklearn.metrics import mean_squared_error, mean_absolute_error\n",
    "from statsmodels.tsa.arima.model import ARIMA\n",
    "from statsmodels.tsa.api import VAR\n",
    "import warnings\n",
    "from statsmodels.tools.sm_exceptions import ConvergenceWarning\n",
    "from statsmodels.tsa.holtwinters import ExponentialSmoothing\n",
    "warnings.simplefilter('ignore', ConvergenceWarning)\n",
    "warnings.simplefilter('ignore', UserWarning)\n",
    "warnings.simplefilter(action='ignore', category=FutureWarning)"
   ]
  },
  {
   "cell_type": "markdown",
   "metadata": {},
   "source": [
    "Создаём Pandas DataFrame из файла IBM.csv"
   ]
  },
  {
   "cell_type": "code",
   "execution_count": 9,
   "metadata": {
    "ExecuteTime": {
     "end_time": "2023-12-16T15:02:52.571991100Z",
     "start_time": "2023-12-16T15:02:52.552301400Z"
    }
   },
   "outputs": [],
   "source": [
    "file_path = 'MSFT.csv'\n",
    "df = pd.read_csv(file_path)\n",
    "df['Date'] = pd.to_datetime(df['Date'])\n",
    "df.set_index('Date', inplace=True)\n",
    "df[\"Volume\"] = df[\"Volume\"] / max(df[\"Volume\"])"
   ]
  },
  {
   "cell_type": "markdown",
   "metadata": {},
   "source": [
    "Отрисуем график стоимости акций"
   ]
  },
  {
   "cell_type": "code",
   "execution_count": 10,
   "metadata": {
    "ExecuteTime": {
     "end_time": "2023-12-16T15:02:55.515716900Z",
     "start_time": "2023-12-16T15:02:55.445962300Z"
    }
   },
   "outputs": [
    {
     "data": {
      "application/vnd.jupyter.widget-view+json": {
       "model_id": "da1dab5d2dc34f5cbb33c179123c4104",
       "version_major": 2,
       "version_minor": 0
      },
      "text/plain": [
       "FigureWidget({\n",
       "    'data': [{'mode': 'lines+markers',\n",
       "              'name': 'Исходные данные',\n",
       "              'type': 'scatter',\n",
       "              'uid': '132b67f3-4ca8-4e94-9831-7b1013b2b0a7',\n",
       "              'x': array([datetime.datetime(2022, 9, 6, 0, 0),\n",
       "                          datetime.datetime(2022, 9, 7, 0, 0),\n",
       "                          datetime.datetime(2022, 9, 8, 0, 0), ...,\n",
       "                          datetime.datetime(2023, 8, 31, 0, 0),\n",
       "                          datetime.datetime(2023, 9, 1, 0, 0),\n",
       "                          datetime.datetime(2023, 9, 5, 0, 0)], dtype=object),\n",
       "              'y': array([0.24770853, 0.28021068, 0.235998  , ..., 0.30674084, 0.17341293,\n",
       "                          0.21531904])}],\n",
       "    'layout': {'template': '...',\n",
       "               'xaxis': {'title': {'text': 'Дата'}},\n",
       "               'yaxis': {'range': [0, 1.1], 'title': {'text': 'Стоимость'}}}\n",
       "})"
      ]
     },
     "execution_count": 10,
     "metadata": {},
     "output_type": "execute_result"
    }
   ],
   "source": [
    "trace1 = go.Scatter(x=df.index, y=df['Volume'], mode=\"lines+markers\", name='Исходные данные')\n",
    "fig1 = go.FigureWidget(layout_yaxis_range=[0,np.max(df['Volume'])*1.1])\n",
    "fig1.add_trace(trace1)\n",
    "fig1.update_xaxes(title='Дата')\n",
    "fig1.update_yaxes(title='Стоимость')\n",
    "fig1"
   ]
  },
  {
   "cell_type": "markdown",
   "metadata": {},
   "source": [
    "### ARIMA"
   ]
  },
  {
   "cell_type": "code",
   "execution_count": 11,
   "metadata": {
    "ExecuteTime": {
     "end_time": "2023-12-16T15:05:50.884358600Z",
     "start_time": "2023-12-16T15:05:49.838985200Z"
    }
   },
   "outputs": [
    {
     "data": {
      "application/vnd.jupyter.widget-view+json": {
       "model_id": "01b3c3de017c4d3a8ff4cbee5410662d",
       "version_major": 2,
       "version_minor": 0
      },
      "text/plain": [
       "interactive(children=(IntSlider(value=5, description='p:', max=10), IntSlider(value=1, description='d:', max=1…"
      ]
     },
     "metadata": {},
     "output_type": "display_data"
    },
    {
     "data": {
      "application/vnd.jupyter.widget-view+json": {
       "model_id": "c36e982051cf485d908fd86577eb1194",
       "version_major": 2,
       "version_minor": 0
      },
      "text/plain": [
       "FigureWidget({\n",
       "    'data': [{'mode': 'lines+markers',\n",
       "              'name': 'Исходные данные',\n",
       "              'type': 'scatter',\n",
       "              'uid': 'cf123eab-6d42-495b-ad0e-18a6df4449c3',\n",
       "              'x': array([datetime.datetime(2022, 9, 6, 0, 0),\n",
       "                          datetime.datetime(2022, 9, 7, 0, 0),\n",
       "                          datetime.datetime(2022, 9, 8, 0, 0), ...,\n",
       "                          datetime.datetime(2023, 8, 31, 0, 0),\n",
       "                          datetime.datetime(2023, 9, 1, 0, 0),\n",
       "                          datetime.datetime(2023, 9, 5, 0, 0)], dtype=object),\n",
       "              'y': array([0.24770853, 0.28021068, 0.235998  , ..., 0.30674084, 0.17341293,\n",
       "                          0.21531904])},\n",
       "             {'mode': 'markers',\n",
       "              'name': 'ARIMA',\n",
       "              'type': 'scatter',\n",
       "              'uid': '4225d0e3-bbd5-446d-9957-a13b64984f07',\n",
       "              'x': array([datetime.datetime(2022, 9, 7, 0, 0)], dtype=object),\n",
       "              'y': array([0.24770853])}],\n",
       "    'layout': {'template': '...', 'xaxis': {'title': {'text': 'Дата'}}, 'yaxis': {'title': {'text': 'Стоимость'}}}\n",
       "})"
      ]
     },
     "execution_count": 11,
     "metadata": {},
     "output_type": "execute_result"
    }
   ],
   "source": [
    "\n",
    "# Прогнозирование с использованием ARIMA\n",
    "order = (5, 1, 1)  # параметры модели ARIMA (p, d, q)\n",
    "model = ARIMA(df['Volume'], order=order)\n",
    "result = model.fit()\n",
    "\n",
    "forecast_steps = 10 \n",
    "forecast = result.get_forecast(steps=forecast_steps)\n",
    "\n",
    "forecast_values = forecast.predicted_mean\n",
    "# Визуализация результатов\n",
    "trace2 = go.Scatter(\n",
    "    x=pd.date_range(start=df.index[-1], periods=forecast_steps + 1, freq='B')[1:],\n",
    "    y=forecast_values,\n",
    "    mode='markers',\n",
    "    name='ARIMA'\n",
    ")\n",
    "\n",
    "fig2 = go.FigureWidget(data=[trace1, trace2])\n",
    "fig2.update_layout(xaxis_title='Дата', yaxis_title='Стоимость')\n",
    "\n",
    "def redraw_arima(**args):\n",
    "    p, d, q, end, forecast_n = args.values()\n",
    "    \n",
    "    order = (p, d, q)  # параметры модели ARIMA (p, d, q)\n",
    "    model = ARIMA(df['Volume'][:end], order=order)\n",
    "    result = model.fit()\n",
    "\n",
    "    forecast = result.get_forecast(steps=forecast_n)\n",
    "    \n",
    "    forecast_values = forecast.predicted_mean\n",
    "    \n",
    "    mse_arima = mean_squared_error(df['Volume'][end:end+forecast_n], forecast_values)\n",
    "    mae_arima = mean_absolute_error(df['Volume'][end:end+forecast_n], forecast_values)\n",
    "    \n",
    "    fig2[\"data\"][1].x = df.index[end:end+forecast_n]\n",
    "    fig2[\"data\"][1].y = forecast_values\n",
    "    \n",
    "    print(f'MSE (ARIMA): {mse_arima}')\n",
    "    print(f'MAE (ARIMA): {mae_arima}')\n",
    "\n",
    "\n",
    "interact(\n",
    "    redraw_arima, \n",
    "    int1=widgets.IntSlider(value=5, min=0, max=10, step=1,description='p:'), \n",
    "    int2=widgets.IntSlider(value=1, min=0, max=10, step=1,description='d:'),\n",
    "    int3=widgets.IntSlider(value=1, min=0, max=10, step=1,description='q:'), \n",
    "    int4=widgets.IntSlider(value=1, min=1, max=len(df.index), step=1,description='end:'), \n",
    "    int5=widgets.IntSlider(value=1, min=1, max=100, step=1,description='forecast_n:')\n",
    ")\n",
    "\n",
    "# Вывод результатов\n",
    "fig2"
   ]
  },
  {
   "cell_type": "markdown",
   "metadata": {},
   "source": [
    "### VAR"
   ]
  },
  {
   "cell_type": "code",
   "execution_count": null,
   "metadata": {
    "ExecuteTime": {
     "end_time": "2023-12-17T10:46:07.611987500Z",
     "start_time": "2023-12-17T10:46:07.421463200Z"
    }
   },
   "outputs": [],
   "source": [
    "order = 2  # порядок VAR-модели\n",
    "model_var = VAR(df)\n",
    "result_var = model_var.fit(order)\n",
    "\n",
    "forecast_steps = 10 \n",
    "lag_order = result_var.k_ar\n",
    "forecast = result_var.forecast(df.values[-lag_order:], steps=forecast_steps)\n",
    "\n",
    "# Визуализация результатов\n",
    "trace2 = go.Scatter(\n",
    "    x=pd.date_range(start=df.index[-1], periods=forecast_steps + 1, freq='B')[1:],\n",
    "    y=forecast[:, -1],\n",
    "    mode='markers',\n",
    "    name='VAR'\n",
    ")\n",
    "\n",
    "fig3 = go.FigureWidget(data=[trace1, trace2])\n",
    "fig3.update_layout(xaxis_title='Дата', yaxis_title='Стоимость')\n",
    "\n",
    "def redraw_var(**args):\n",
    "    order, end, forecast_n = args.values()\n",
    "\n",
    "    model_var = VAR(df)\n",
    "    result_var = model_var.fit(order)\n",
    "    forecast = result_var.forecast(model_var.y[:end], steps=forecast_n)\n",
    "    forecast_values = forecast[:,-1]\n",
    "    \n",
    "    mse_arima = mean_squared_error(df['Volume'][end:end+forecast_n], forecast_values)\n",
    "    mae_arima = mean_absolute_error(df['Volume'][end:end+forecast_n], forecast_values)\n",
    "    \n",
    "    fig3[\"data\"][1].x = df.index[end:end+forecast_n]\n",
    "    fig3[\"data\"][1].y = forecast_values\n",
    "    \n",
    "    print(f'MSE (VAR): {mse_arima}')\n",
    "    print(f'MAE (VAR): {mae_arima}')\n",
    "\n",
    "\n",
    "interact(\n",
    "    redraw_var, \n",
    "    int1=widgets.IntSlider(value=5, min=0, max=10, step=1,description='p:'), \n",
    "    int2=widgets.IntSlider(value=1, min=1, max=len(df.index), step=1,description='end:'), \n",
    "    int3=widgets.IntSlider(value=1, min=1, max=100, step=1,description='forecast_n:')\n",
    ")\n",
    "\n",
    "# Вывод результатов\n",
    "fig3"
   ]
  },
  {
   "cell_type": "markdown",
   "metadata": {},
   "source": [
    "### Holt Winter’s Exponential Smoothing"
   ]
  },
  {
   "cell_type": "code",
   "execution_count": 14,
   "metadata": {},
   "outputs": [
    {
     "data": {
      "application/vnd.jupyter.widget-view+json": {
       "model_id": "55f4980508dc4cb2a3b7670c729264e3",
       "version_major": 2,
       "version_minor": 0
      },
      "text/plain": [
       "interactive(children=(IntSlider(value=5, description='p:', min=1), IntSlider(value=2, description='end:', max=…"
      ]
     },
     "metadata": {},
     "output_type": "display_data"
    },
    {
     "data": {
      "application/vnd.jupyter.widget-view+json": {
       "model_id": "0e989af269744f3fb40aa1baa97fe442",
       "version_major": 2,
       "version_minor": 0
      },
      "text/plain": [
       "FigureWidget({\n",
       "    'data': [{'mode': 'lines+markers',\n",
       "              'name': 'Исходные данные',\n",
       "              'type': 'scatter',\n",
       "              'uid': 'a322df85-869a-42d4-bf7b-b1165ece4203',\n",
       "              'x': array([datetime.datetime(2022, 9, 6, 0, 0),\n",
       "                          datetime.datetime(2022, 9, 7, 0, 0),\n",
       "                          datetime.datetime(2022, 9, 8, 0, 0), ...,\n",
       "                          datetime.datetime(2023, 8, 31, 0, 0),\n",
       "                          datetime.datetime(2023, 9, 1, 0, 0),\n",
       "                          datetime.datetime(2023, 9, 5, 0, 0)], dtype=object),\n",
       "              'y': array([0.24770853, 0.28021068, 0.235998  , ..., 0.30674084, 0.17341293,\n",
       "                          0.21531904])},\n",
       "             {'mode': 'markers',\n",
       "              'name': 'HWES',\n",
       "              'type': 'scatter',\n",
       "              'uid': 'e0ec1f4c-151c-4bd6-bad2-d226ddd6cfe1',\n",
       "              'x': array([datetime.datetime(2023, 9, 6, 0, 0),\n",
       "                          datetime.datetime(2023, 9, 7, 0, 0),\n",
       "                          datetime.datetime(2023, 9, 8, 0, 0),\n",
       "                          datetime.datetime(2023, 9, 11, 0, 0),\n",
       "                          datetime.datetime(2023, 9, 12, 0, 0),\n",
       "                          datetime.datetime(2023, 9, 13, 0, 0),\n",
       "                          datetime.datetime(2023, 9, 14, 0, 0),\n",
       "                          datetime.datetime(2023, 9, 15, 0, 0),\n",
       "                          datetime.datetime(2023, 9, 18, 0, 0),\n",
       "                          datetime.datetime(2023, 9, 19, 0, 0)], dtype=object),\n",
       "              'y': array([0.26988634, 0.33769156, 0.29192085, 0.23542482, 0.27259158, 0.25497782,\n",
       "                          0.230199  , 0.23792593, 0.20964176, 0.21496296])}],\n",
       "    'layout': {'template': '...', 'xaxis': {'title': {'text': 'Дата'}}, 'yaxis': {'title': {'text': 'Стоимость'}}}\n",
       "})"
      ]
     },
     "execution_count": 14,
     "metadata": {},
     "output_type": "execute_result"
    }
   ],
   "source": [
    "hw_model = ExponentialSmoothing(df['Volume'], trend='add', seasonal='add', seasonal_periods=12)\n",
    "hw_result = hw_model.fit()\n",
    "\n",
    "forecast_steps = 10 \n",
    "forecast = hw_result.forecast(steps=forecast_steps)\n",
    "\n",
    "# Визуализация результатов\n",
    "trace2 = go.Scatter(\n",
    "    x=pd.date_range(start=df.index[-1], periods=forecast_steps + 1, freq='B')[1:],\n",
    "    y=forecast,\n",
    "    mode='markers',\n",
    "    name='HWES'\n",
    ")\n",
    "\n",
    "fig4 = go.FigureWidget(data=[trace1, trace2])\n",
    "fig4.update_layout(xaxis_title='Дата', yaxis_title='Стоимость')\n",
    "\n",
    "def redraw_var(**args):\n",
    "    order, end, forecast_n = args.values()\n",
    "\n",
    "    hw_model = ExponentialSmoothing(df['Volume'][:end], trend='add', seasonal='add', seasonal_periods=order)\n",
    "    hw_result = hw_model.fit()\n",
    "\n",
    "    forecast = hw_result.forecast(steps=forecast_n)\n",
    "    \n",
    "    mse_arima = mean_squared_error(df['Volume'][end:end+forecast_n], forecast)\n",
    "    mae_arima = mean_absolute_error(df['Volume'][end:end+forecast_n], forecast)\n",
    "    \n",
    "    fig4[\"data\"][1].x = df.index[end:end+forecast_n]\n",
    "    fig4[\"data\"][1].y = forecast\n",
    "    \n",
    "    print(f'MSE (HWES): {mse_arima}')\n",
    "    print(f'MAE (HWES): {mae_arima}')\n",
    "\n",
    "\n",
    "interact(\n",
    "    redraw_var, \n",
    "    int1=widgets.IntSlider(value=5, min=1, max=100, step=1,description='p:'), \n",
    "    int2=widgets.IntSlider(value=2, min=2, max=len(df.index), step=1,description='end:'), \n",
    "    int3=widgets.IntSlider(value=1, min=1, max=100, step=1,description='forecast_n:')\n",
    ")\n",
    "\n",
    "# Вывод результатов\n",
    "fig4"
   ]
  }
 ],
 "metadata": {
  "kernelspec": {
   "display_name": "Python 3 (ipykernel)",
   "language": "python",
   "name": "python3"
  },
  "language_info": {
   "codemirror_mode": {
    "name": "ipython",
    "version": 3
   },
   "file_extension": ".py",
   "mimetype": "text/x-python",
   "name": "python",
   "nbconvert_exporter": "python",
   "pygments_lexer": "ipython3",
   "version": "3.11.5"
  },
  "varInspector": {
   "cols": {
    "lenName": 16,
    "lenType": 16,
    "lenVar": 40
   },
   "kernels_config": {
    "python": {
     "delete_cmd_postfix": "",
     "delete_cmd_prefix": "del ",
     "library": "var_list.py",
     "varRefreshCmd": "print(var_dic_list())"
    },
    "r": {
     "delete_cmd_postfix": ") ",
     "delete_cmd_prefix": "rm(",
     "library": "var_list.r",
     "varRefreshCmd": "cat(var_dic_list()) "
    }
   },
   "types_to_exclude": [
    "module",
    "function",
    "builtin_function_or_method",
    "instance",
    "_Feature"
   ],
   "window_display": false
  }
 },
 "nbformat": 4,
 "nbformat_minor": 1
}
