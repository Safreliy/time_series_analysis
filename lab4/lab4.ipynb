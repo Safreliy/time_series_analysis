{
 "cells": [
  {
   "cell_type": "markdown",
   "metadata": {},
   "source": [
    "Импортируем библиотеки"
   ]
  },
  {
   "cell_type": "code",
   "execution_count": 1,
   "metadata": {
    "ExecuteTime": {
     "end_time": "2023-11-27T14:59:52.591474300Z",
     "start_time": "2023-11-27T14:59:48.436368200Z"
    }
   },
   "outputs": [],
   "source": [
    "import pandas as pd\n",
    "import numpy as np\n",
    "import plotly.graph_objects as go\n",
    "from ipywidgets import interact\n",
    "import ipywidgets as widgets\n",
    "from ipywidgets import VBox\n",
    "from scipy.interpolate import interp1d, lagrange, CubicSpline, interp1d, pchip\n",
    "from scipy.interpolate import BarycentricInterpolator, Akima1DInterpolator"
   ]
  },
  {
   "cell_type": "markdown",
   "metadata": {},
   "source": [
    "Создаём Pandas DataFrame из файла IBM.csv"
   ]
  },
  {
   "cell_type": "code",
   "execution_count": 9,
   "metadata": {
    "ExecuteTime": {
     "end_time": "2023-11-12T12:37:14.243723500Z",
     "start_time": "2023-11-12T12:37:14.218151600Z"
    }
   },
   "outputs": [],
   "source": [
    "file_path = 'MSFT.csv'\n",
    "df = pd.read_csv(file_path)"
   ]
  },
  {
   "cell_type": "markdown",
   "metadata": {},
   "source": [
    "Отрисуем график стоимости акций"
   ]
  },
  {
   "cell_type": "code",
   "execution_count": 10,
   "metadata": {},
   "outputs": [
    {
     "data": {
      "application/vnd.jupyter.widget-view+json": {
       "model_id": "2bd4bc7f1e4545179af2aa7a4d8dfb6d",
       "version_major": 2,
       "version_minor": 0
      },
      "text/plain": [
       "FigureWidget({\n",
       "    'data': [{'mode': 'markers',\n",
       "              'name': 'Исходные данные',\n",
       "              'type': 'scatter',\n",
       "              'uid': '3eb95699-4551-4448-8e00-afe4a69bbc4e',\n",
       "              'x': array([  0,   1,   2, ..., 248, 249, 250]),\n",
       "              'y': array([0.24770853, 0.28021068, 0.235998  , ..., 0.30674084, 0.17341293,\n",
       "                          0.21531904])}],\n",
       "    'layout': {'template': '...',\n",
       "               'xaxis': {'title': {'text': 'Дата'}},\n",
       "               'yaxis': {'range': [0, 1.1], 'title': {'text': 'Стоимость'}}}\n",
       "})"
      ]
     },
     "execution_count": 10,
     "metadata": {},
     "output_type": "execute_result"
    }
   ],
   "source": [
    "x=np.array(np.arange(len(df['Date'])))\n",
    "y=df['Volume']/np.max(df['Volume'])\n",
    "x_smooth = np.linspace(x.min(), x.max(), len(df['Date']) * 2)\n",
    "x_1, x_2, x_3, x_4, x_5, x_6 = np.floor([0, len(x)/5, 2*len(x)/5, 3*len(x)/5, 4*len(x)/5, len(x)])\n",
    "\n",
    "trace1 = go.Scatter(x=x, y=y, mode=\"markers\", name='Исходные данные')\n",
    "fig1 = go.FigureWidget(layout_yaxis_range=[0,np.max(y)*1.1])\n",
    "fig1.add_trace(trace1)\n",
    "fig1.update_xaxes(title='Дата')\n",
    "fig1.update_yaxes(title='Стоимость')\n",
    "fig1"
   ]
  },
  {
   "cell_type": "markdown",
   "metadata": {},
   "source": [
    "### Линейная интерполяция"
   ]
  },
  {
   "cell_type": "code",
   "execution_count": 16,
   "metadata": {
    "ExecuteTime": {
     "end_time": "2023-11-12T13:12:35.665807300Z",
     "start_time": "2023-11-12T13:12:35.533860700Z"
    }
   },
   "outputs": [
    {
     "data": {
      "application/vnd.jupyter.widget-view+json": {
       "model_id": "7c87fe74df914877995c4d7cc914c87e",
       "version_major": 2,
       "version_minor": 0
      },
      "text/plain": [
       "interactive(children=(IntRangeSlider(value=(0, 50), description='int1:', max=50), IntRangeSlider(value=(50, 10…"
      ]
     },
     "metadata": {},
     "output_type": "display_data"
    },
    {
     "data": {
      "application/vnd.jupyter.widget-view+json": {
       "model_id": "85656af70cce45ccaa856ce0c90eff84",
       "version_major": 2,
       "version_minor": 0
      },
      "text/plain": [
       "FigureWidget({\n",
       "    'data': [{'mode': 'markers',\n",
       "              'name': 'Исходные данные',\n",
       "              'type': 'scatter',\n",
       "              'uid': '2cd4bbb6-b867-437a-9e7b-93552e4f8342',\n",
       "              'x': array([  0,   1,   2, ..., 248, 249, 250]),\n",
       "              'y': array([0.24770853, 0.28021068, 0.235998  , ..., 0.30674084, 0.17341293,\n",
       "                          0.21531904])},\n",
       "             {'mode': 'markers',\n",
       "              'name': 'Линейная интерполяция',\n",
       "              'type': 'scatter',\n",
       "              'uid': 'b46fca45-39a8-43f8-a4db-db2fcbf8e0c9',\n",
       "              'x': array([  0.        ,   0.499002  ,   0.99800399, ..., 249.00199601,\n",
       "                          249.500998  , 250.        ]),\n",
       "              'y': array([0.24770853, 0.26392717, 0.28014581, ..., 0.17349657, 0.19440781,\n",
       "                          0.21531904])}],\n",
       "    'layout': {'template': '...', 'xaxis': {'title': {'text': 'Дата'}}, 'yaxis': {'title': {'text': 'Стоимость'}}}\n",
       "})"
      ]
     },
     "execution_count": 16,
     "metadata": {},
     "output_type": "execute_result"
    }
   ],
   "source": [
    "# Построение линейной регрессии\n",
    "interp = interp1d(x, y, kind='linear')\n",
    "y_linear = interp(x_smooth)\n",
    "# Построение графика\n",
    "trace2 = go.Scatter(\n",
    "    x=x_smooth,\n",
    "    y=y_linear,\n",
    "    mode='markers',\n",
    "    name='Линейная интерполяция'\n",
    ")\n",
    "\n",
    "fig2 = go.FigureWidget(data=[trace1, trace2])\n",
    "fig2.update_layout(xaxis_title='Дата', yaxis_title='Стоимость')\n",
    "\n",
    "def redraw_linear(**args):\n",
    "    result = np.zeros_like(x, dtype=bool)\n",
    "    for arg in args.values():\n",
    "        result[arg[0]:arg[1]] = True\n",
    "\n",
    "    x_changed = x[result]\n",
    "    interp = interp1d(x_changed, y[x_changed], kind='linear')\n",
    "    y_linear = interp(x_smooth)\n",
    "    fig2[\"data\"][1].x = x_smooth\n",
    "    fig2[\"data\"][1].y = y_linear\n",
    "\n",
    "interact(\n",
    "    redraw_linear, \n",
    "    int1=widgets.IntRangeSlider(value=[x_1, x_2], min=x_1, max=x_2, step=1,description='int1:'), \n",
    "    int2=widgets.IntRangeSlider(value=[x_2, x_3], min=x_2, max=x_3, step=1,description='int2:'),\n",
    "    int3=widgets.IntRangeSlider(value=[x_3, x_4], min=x_3, max=x_4, step=1,description='int3:'), \n",
    "    int4=widgets.IntRangeSlider(value=[x_4, x_5], min=x_4, max=x_5, step=1,description='int4:'), \n",
    "    int5=widgets.IntRangeSlider(value=[x_5, x_6], min=x_5, max=x_6, step=1,description='int5:'), \n",
    ")\n",
    "fig2"
   ]
  },
  {
   "cell_type": "markdown",
   "metadata": {},
   "source": [
    "### Интерполяция Лагранжа"
   ]
  },
  {
   "cell_type": "code",
   "execution_count": 12,
   "metadata": {
    "ExecuteTime": {
     "end_time": "2023-11-12T17:05:34.748920200Z",
     "start_time": "2023-11-12T17:05:34.424373700Z"
    }
   },
   "outputs": [],
   "source": [
    "# Построение линейной регрессии\n",
    "x_l=x[0:15]\n",
    "y_l=y[0:15]\n",
    "interp = lagrange(x_l, y_l)\n",
    "y_lagrange = interp(x_smooth[0:15])\n",
    "# Построение графика\n",
    "trace2 = go.Scatter(\n",
    "    x=x_smooth[0:15],\n",
    "    y=y_lagrange[0:15],\n",
    "    mode='markers',\n",
    "    name='Интерполяция лагранжа'\n",
    ")\n",
    "\n",
    "fig3 = go.FigureWidget(data=[trace1, trace2])\n",
    "fig3.update_layout(xaxis_title='Дата', yaxis_title='Стоимость')\n",
    "\n",
    "def redraw_lagrange(**args):\n",
    "    result = np.zeros_like(x_l, dtype=bool)\n",
    "    for arg in args.values():\n",
    "        result[arg[0]:arg[1]] = True\n",
    "\n",
    "    x_changed = x_l[result]\n",
    "    interp =  lagrange(x_changed, y_l[x_changed])\n",
    "    y_lagrange = interp(x_smooth)\n",
    "    fig3[\"data\"][1].y = y_lagrange\n",
    "\n",
    "interact(\n",
    "    redraw_lagrange, \n",
    "    int1=widgets.IntRangeSlider(value=[x_1, x_2], min=x_1, max=x_2, step=1,description='int1:'), \n",
    "    int2=widgets.IntRangeSlider(value=[x_2, x_3], min=x_2, max=x_3, step=1,description='int2:'),\n",
    "    int3=widgets.IntRangeSlider(value=[x_3, x_4], min=x_3, max=x_4, step=1,description='int3:'), \n",
    "    int4=widgets.IntRangeSlider(value=[x_4, x_5], min=x_4, max=x_5, step=1,description='int4:'), \n",
    "    int5=widgets.IntRangeSlider(value=[x_5, x_6], min=x_5, max=x_6, step=1,description='int5:'), \n",
    ")\n",
    "fig3"
   ]
  },
  {
   "cell_type": "markdown",
   "metadata": {},
   "source": [
    "### Сплайн интерполяция"
   ]
  },
  {
   "cell_type": "code",
   "execution_count": 13,
   "metadata": {},
   "outputs": [
    {
     "data": {
      "application/vnd.jupyter.widget-view+json": {
       "model_id": "cab14c001c9e414a82b107b2b78c99aa",
       "version_major": 2,
       "version_minor": 0
      },
      "text/plain": [
       "interactive(children=(IntRangeSlider(value=(0, 50), description='int1:', max=50), IntRangeSlider(value=(50, 10…"
      ]
     },
     "metadata": {},
     "output_type": "display_data"
    },
    {
     "data": {
      "application/vnd.jupyter.widget-view+json": {
       "model_id": "a9d1651b63a04c94b1ddd84eced1ec59",
       "version_major": 2,
       "version_minor": 0
      },
      "text/plain": [
       "FigureWidget({\n",
       "    'data': [{'mode': 'markers',\n",
       "              'name': 'Исходные данные',\n",
       "              'type': 'scatter',\n",
       "              'uid': 'a0949dd1-0f73-4e78-8ae9-cd5ec191adf2',\n",
       "              'x': array([  0,   1,   2, ..., 248, 249, 250]),\n",
       "              'y': array([0.24770853, 0.28021068, 0.235998  , ..., 0.30674084, 0.17341293,\n",
       "                          0.21531904])},\n",
       "             {'mode': 'markers',\n",
       "              'name': 'Сплайн интерполяция',\n",
       "              'type': 'scatter',\n",
       "              'uid': 'c6b4579f-cc2c-4c86-a5b6-b7001fac2eb4',\n",
       "              'x': array([  0.        ,   0.499002  ,   0.99800399, ..., 249.00199601,\n",
       "                          249.500998  , 250.        ]),\n",
       "              'y': array([0.24770853, 0.28983824, 0.28030903, ..., 0.17307661, 0.126364  ,\n",
       "                          0.21531904])}],\n",
       "    'layout': {'template': '...', 'xaxis': {'title': {'text': 'Дата'}}, 'yaxis': {'title': {'text': 'Стоимость'}}}\n",
       "})"
      ]
     },
     "execution_count": 13,
     "metadata": {},
     "output_type": "execute_result"
    }
   ],
   "source": [
    "# Построение линейной регрессии\n",
    "interp = CubicSpline(x, y)\n",
    "y_cubic = interp(x_smooth)\n",
    "# Построение графика\n",
    "trace2 = go.Scatter(\n",
    "    x=x_smooth,\n",
    "    y=y_cubic,\n",
    "    mode='markers',\n",
    "    name='Сплайн интерполяция'\n",
    ")\n",
    "\n",
    "fig4 = go.FigureWidget(data=[trace1, trace2])\n",
    "fig4.update_layout(xaxis_title='Дата', yaxis_title='Стоимость')\n",
    "\n",
    "def redraw_cubic(**args):\n",
    "    result = np.zeros_like(x, dtype=bool)\n",
    "    for arg in args.values():\n",
    "        result[arg[0]:arg[1]] = True\n",
    "\n",
    "    x_changed = x[result]\n",
    "    interp = CubicSpline(x_changed, y[x_changed])\n",
    "    y_cubic = interp(x_smooth)\n",
    "    fig4[\"data\"][1].y = y_cubic\n",
    "\n",
    "interact(\n",
    "    redraw_cubic, \n",
    "    int1=widgets.IntRangeSlider(value=[x_1, x_2], min=x_1, max=x_2, step=1,description='int1:'), \n",
    "    int2=widgets.IntRangeSlider(value=[x_2, x_3], min=x_2, max=x_3, step=1,description='int2:'),\n",
    "    int3=widgets.IntRangeSlider(value=[x_3, x_4], min=x_3, max=x_4, step=1,description='int3:'), \n",
    "    int4=widgets.IntRangeSlider(value=[x_4, x_5], min=x_4, max=x_5, step=1,description='int4:'), \n",
    "    int5=widgets.IntRangeSlider(value=[x_5, x_6], min=x_5, max=x_6, step=1,description='int5:'), \n",
    ")\n",
    "fig4"
   ]
  },
  {
   "cell_type": "markdown",
   "metadata": {},
   "source": [
    "### Интерполяция Ньютона"
   ]
  },
  {
   "cell_type": "code",
   "execution_count": 15,
   "metadata": {
    "ExecuteTime": {
     "end_time": "2023-11-12T18:02:16.518051300Z",
     "start_time": "2023-11-12T18:02:16.462945500Z"
    }
   },
   "outputs": [
    {
     "data": {
      "application/vnd.jupyter.widget-view+json": {
       "model_id": "69c74dce9866422a84996cc1e118a9a9",
       "version_major": 2,
       "version_minor": 0
      },
      "text/plain": [
       "interactive(children=(IntRangeSlider(value=(0, 50), description='int1:', max=50), IntRangeSlider(value=(50, 10…"
      ]
     },
     "metadata": {},
     "output_type": "display_data"
    },
    {
     "data": {
      "application/vnd.jupyter.widget-view+json": {
       "model_id": "c931d570dce04b62bac6e5aba0a66355",
       "version_major": 2,
       "version_minor": 0
      },
      "text/plain": [
       "FigureWidget({\n",
       "    'data': [{'mode': 'markers',\n",
       "              'name': 'Исходные данные',\n",
       "              'type': 'scatter',\n",
       "              'uid': '316f50fe-5b4b-46a1-bd0d-74684916b8be',\n",
       "              'x': array([  0,   1,   2, ..., 248, 249, 250]),\n",
       "              'y': array([0.24770853, 0.28021068, 0.235998  , ..., 0.30674084, 0.17341293,\n",
       "                          0.21531904])},\n",
       "             {'mode': 'markers',\n",
       "              'name': 'Интерполяция Ньютона',\n",
       "              'type': 'scatter',\n",
       "              'uid': '9d15b398-6839-46a7-bd01-046b6f5155c9',\n",
       "              'x': array([  0.        ,   0.499002  ,   0.99800399, ..., 249.00199601,\n",
       "                          249.500998  , 250.        ]),\n",
       "              'y': array([2.47708532e-001, 1.51457871e+055, 7.60453940e+051, ..., 7.01066016e+108,\n",
       "                          1.62799557e+109, 3.76670434e+109])}],\n",
       "    'layout': {'template': '...', 'xaxis': {'title': {'text': 'Дата'}}, 'yaxis': {'title': {'text': 'Стоимость'}}}\n",
       "})"
      ]
     },
     "execution_count": 15,
     "metadata": {},
     "output_type": "execute_result"
    }
   ],
   "source": [
    "def divided_diff(x, y):\n",
    "    n = len(y)\n",
    "    coef = np.zeros([n, n])\n",
    "    coef[:,0] = y\n",
    "    for j in range(1,n):\n",
    "        for i in range(n-j):\n",
    "            coef[i][j] = (coef[i+1][j-1] - coef[i][j-1]) / (x[i+j]-x[i])     \n",
    "    return coef\n",
    "\n",
    "def newton_poly(coef, x_data, x):\n",
    "    n = len(x_data) - 1 \n",
    "    p = coef[n]\n",
    "    for k in range(1,n+1):\n",
    "        p = coef[n-k] + (x -x_data[n-k])*p\n",
    "    return p\n",
    "\n",
    "a_s = divided_diff(x, y)[0, :]\n",
    "\n",
    "y_newton = newton_poly(a_s, x, x_smooth)\n",
    "\n",
    "trace2 = go.Scatter(\n",
    "    x=x_smooth,\n",
    "    y=y_newton,\n",
    "    mode='markers',\n",
    "    name='Интерполяция Ньютона'\n",
    ")\n",
    "\n",
    "fig5 = go.FigureWidget(data=[trace1, trace2])\n",
    "fig5.update_layout(xaxis_title='Дата', yaxis_title='Стоимость')\n",
    "\n",
    "def redraw_cubic(**args):\n",
    "    result = np.zeros_like(x, dtype=bool)\n",
    "    for arg in args.values():\n",
    "        result[arg[0]:arg[1]] = True\n",
    "\n",
    "    x_changed = x[result]\n",
    "    y_changed = y[result]\n",
    "    a_s = divided_diff(x_changed, y_changed)[0, :]\n",
    "    y_newton = newton_poly(a_s, x_changed, x_smooth)\n",
    "    fig5[\"data\"][1].y = y_newton\n",
    "\n",
    "interact(\n",
    "    redraw_cubic, \n",
    "    int1=widgets.IntRangeSlider(value=[x_1, x_2], min=x_1, max=x_2, step=1,description='int1:'), \n",
    "    int2=widgets.IntRangeSlider(value=[x_2, x_3], min=x_2, max=x_3, step=1,description='int2:'),\n",
    "    int3=widgets.IntRangeSlider(value=[x_3, x_4], min=x_3, max=x_4, step=1,description='int3:'), \n",
    "    int4=widgets.IntRangeSlider(value=[x_4, x_5], min=x_4, max=x_5, step=1,description='int4:'), \n",
    "    int5=widgets.IntRangeSlider(value=[x_5, x_6], min=x_5, max=x_6, step=1,description='int5:'), \n",
    ")\n",
    "fig5"
   ]
  },
  {
   "cell_type": "code",
   "execution_count": null,
   "metadata": {},
   "outputs": [],
   "source": []
  }
 ],
 "metadata": {
  "kernelspec": {
   "display_name": "Python 3 (ipykernel)",
   "language": "python",
   "name": "python3"
  },
  "language_info": {
   "codemirror_mode": {
    "name": "ipython",
    "version": 3
   },
   "file_extension": ".py",
   "mimetype": "text/x-python",
   "name": "python",
   "nbconvert_exporter": "python",
   "pygments_lexer": "ipython3",
   "version": "3.11.5"
  },
  "varInspector": {
   "cols": {
    "lenName": 16,
    "lenType": 16,
    "lenVar": 40
   },
   "kernels_config": {
    "python": {
     "delete_cmd_postfix": "",
     "delete_cmd_prefix": "del ",
     "library": "var_list.py",
     "varRefreshCmd": "print(var_dic_list())"
    },
    "r": {
     "delete_cmd_postfix": ") ",
     "delete_cmd_prefix": "rm(",
     "library": "var_list.r",
     "varRefreshCmd": "cat(var_dic_list()) "
    }
   },
   "types_to_exclude": [
    "module",
    "function",
    "builtin_function_or_method",
    "instance",
    "_Feature"
   ],
   "window_display": false
  }
 },
 "nbformat": 4,
 "nbformat_minor": 1
}
